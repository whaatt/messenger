{
 "cells": [
  {
   "cell_type": "markdown",
   "metadata": {},
   "source": [
    "# Setup\n",
    "**Note:** Ensure you have completed the setup instructions from `README.md` first.\n",
    "\n",
    "Let's get started by running the following cell:"
   ]
  },
  {
   "cell_type": "code",
   "execution_count": null,
   "metadata": {},
   "outputs": [],
   "source": [
    "from util import save_readable_titles\n",
    "save_readable_titles()"
   ]
  },
  {
   "cell_type": "markdown",
   "metadata": {},
   "source": [
    "You should now have a file called `titles.txt` in the repo root. Each set of two lines consists of a\n",
    "chat title and the folder in `messages/inbox` that the chat data is contained in.\n",
    "\n",
    "## Loading and Munging Data\n",
    "Pick a chat you're interested in analyzing, and find its folder by searching `titles.txt` for your\n",
    "chat's title. Replace the folder name below with your desired folder (which is really a subdirectory\n",
    "of `messages/inbox`):"
   ]
  },
  {
   "cell_type": "code",
   "execution_count": null,
   "metadata": {},
   "outputs": [],
   "source": [
    "# NOTE: Please change the folder name in `constants.py`.\n",
    "from constants import folder_name"
   ]
  },
  {
   "cell_type": "markdown",
   "metadata": {},
   "source": [
    "Now follow the rest of this notebook (or **jump to the end** if you aren't interested in the data\n",
    "munging process)."
   ]
  },
  {
   "cell_type": "code",
   "execution_count": null,
   "metadata": {},
   "outputs": [],
   "source": [
    "import os\n",
    "import json\n",
    "\n",
    "\n",
    "relative_prefix = \"../messages/inbox\"\n",
    "message_filename = \"message_1.json\"\n",
    "data_path = os.path.join(relative_prefix, folder_name, message_filename)\n",
    "\n",
    "with open(data_path, \"r\") as data_file:\n",
    "    data = json.loads(data_file.read())"
   ]
  },
  {
   "cell_type": "markdown",
   "metadata": {},
   "source": [
    "Okay, we've loaded the data. Let's get some quick facts about the chat:"
   ]
  },
  {
   "cell_type": "code",
   "execution_count": null,
   "metadata": {},
   "outputs": [],
   "source": [
    "def resolve(unicode_bytes):\n",
    "    \"\"\"Facebook emoji data is often dumped as Unicode bytes.\"\"\"\n",
    "    return unicode_bytes.encode('charmap').decode('utf8')\n",
    "\n",
    "participants = [p[\"name\"] for p in data[\"participants\"]]\n",
    "messages = data[\"messages\"]\n",
    "\n",
    "print(f\"Chat Title: {resolve(data['title'])}\")\n",
    "print(f\"Chat Type: {data['thread_type']}\")\n",
    "print(f\"Message Count: {len(messages)}\")\n",
    "print()\n",
    "\n",
    "for p in participants:\n",
    "    print(f\"{p}: {len([m for m in messages if m['sender_name'] == p])}\")"
   ]
  },
  {
   "cell_type": "markdown",
   "metadata": {},
   "source": [
    "Now is a good time to check whether all participants have names, and if the chat type starts with\n",
    "`Regular`. Otherwise, you may run into unexpected behavior."
   ]
  },
  {
   "cell_type": "markdown",
   "metadata": {},
   "source": [
    "So what does the array of `messages` look like? Facebook doesn't tell us explicitly, but I've done\n",
    "the legwork for you:\n",
    "\n",
    "## Message Schema Notes\n",
    "Each element in `messages` looks something like this:\n",
    "\n",
    "- `sender_name` (keys into `participants`)\n",
    "- `timestamp_ms` (timestamp in millis)\n",
    "- `reactions`? (array, has `reaction` and `actor` keying into to `participants`)\n",
    "- `type` (one of these, value determines other top-level fields)\n",
    "    - `Generic`\n",
    "        - `content`? (text associated with message)\n",
    "        - Top Level Media (zero or one of these, but maybe more?)\n",
    "            - `photos` (array, has `uri` and `creation_timestamp` in seconds)\n",
    "            - `videos` (array, has `uri` and `creation_timestamp` in seconds)\n",
    "                - Nb. `photos` and `videos` also have a thumbnail I'm ignoring\n",
    "            - `audio_files` (array, has `uri` and `creation_timestamp` in seconds)\n",
    "            - `files` (array, has `uri` and `creation_timestamp` in seconds)\n",
    "            - `gifs` (array, has `uri`)\n",
    "            - `sticker` (has `uri`)\n",
    "    - `Share`\n",
    "        - `share`? (might not exist if unavailable)\n",
    "            - `link` (a URI)\n",
    "        - Nb. ignoring `content`, since it is oftentimes auto-generated\n",
    "    - `Call`\n",
    "        - `call_duration`\n",
    "        - `missed`? (`call_duration` is `0` if `missed`)\n",
    "    - `Subscribe`\n",
    "        - `users` (array, has `name` keying into `participants`)\n",
    "    - `Unsubscribe`\n",
    "        - `users` (array, has `name` keying into `participants`)"
   ]
  },
  {
   "cell_type": "markdown",
   "metadata": {},
   "source": [
    "This format is relatively straightforward, but we'd prefer to normalize our data and store it\n",
    "somewhere we can query easily. In this case, we'll load the data into a SQLite DB with the\n",
    "following schema:\n",
    "\n",
    "## SQL DB Schema (approximate, see `schema.py` for exact details)\n",
    "Table: `user` (a unary relation defining the domain of participants; note that chats with duplicate\n",
    "names have no disambiguating info, so they are rejected by this analysis framework)\n",
    "- `name`: Text [PKEY]\n",
    "\n",
    "Table: `messages`\n",
    "- `id`: Integer (auto-increment) [PKEY]\n",
    "- `sender`: User [FKEY]\n",
    "- `timestamp`: Timestamp\n",
    "- `content`: Text (nullable)\n",
    "    - Also indexed by an auxiliary table with full-text search capability.\n",
    "- (`sender`, `timestamp`) (unique)\n",
    "\n",
    "Table: `reactions`\n",
    "- `user`: User [FKEY]\n",
    "- `message`: Message [FKEY]\n",
    "- `reaction`: String\n",
    "- (`user`, `message`) [PKEY]\n",
    "\n",
    "Table: `assets`\n",
    "- `id`: Integer (auto-increment) [PKEY]\n",
    "- `message`: Message [FKEY]\n",
    "- `type`: String\n",
    "    - `photo`\n",
    "    - `video`\n",
    "    - `audio`\n",
    "    - `gif`\n",
    "    - `sticker`\n",
    "    - `link`\n",
    "    - `other`\n",
    "- `path`: String (URI or local path)\n",
    "- `timestamp`: Timestamp (nullable)\n",
    "    - Specific to the asset.\n",
    "- (`message`, `path`) (unique)\n",
    "\n",
    "Table: `events`\n",
    "- `id`: Integer (auto-increment) [PKEY]\n",
    "- `actor`: User [FKEY]\n",
    "- `timestamp`: Timestamp\n",
    "- `type`: String\n",
    "    - `call`\n",
    "    - `subscribe`\n",
    "    - `unsubscribe`\n",
    "- `target`: User [FKEY] (nullable)\n",
    "- `duration`: Integer (nullable)\n",
    "- (`actor`, `timestamp`, `target`) (unique)\n",
    "\n",
    "To avoid having composite foreign keys, we use a combination of IDs and unique constraints."
   ]
  },
  {
   "cell_type": "markdown",
   "metadata": {},
   "source": [
    "I'll spare you the gory details of storing the data in SQL. Go ahead and run the next cell, which\n",
    "will populate a file `data/your_folder_name.db` in the SQLite format. (Takes about 2 seconds for\n",
    "every 1000 messages...)"
   ]
  },
  {
   "cell_type": "code",
   "execution_count": null,
   "metadata": {},
   "outputs": [],
   "source": [
    "from util import store_chat\n",
    "\n",
    "# This works standalone (none of the stuff above necessary).\n",
    "store_chat(folder_name)"
   ]
  }
 ],
 "metadata": {
  "kernelspec": {
   "display_name": "Python 3",
   "language": "python",
   "name": "python3"
  },
  "language_info": {
   "codemirror_mode": {
    "name": "ipython",
    "version": 3
   },
   "file_extension": ".py",
   "mimetype": "text/x-python",
   "name": "python",
   "nbconvert_exporter": "python",
   "pygments_lexer": "ipython3",
   "version": "3.7.3"
  }
 },
 "nbformat": 4,
 "nbformat_minor": 2
}
